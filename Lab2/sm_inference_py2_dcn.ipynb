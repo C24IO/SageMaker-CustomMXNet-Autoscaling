{
 "cells": [
  {
   "cell_type": "markdown",
   "metadata": {},
   "source": [
    "# POC 5"
   ]
  },
  {
   "cell_type": "markdown",
   "metadata": {},
   "source": [
    "## Inference\n",
    "\n",
    "Let's walk through deploying a DCN model in Sagemaker!"
   ]
  },
  {
   "cell_type": "code",
   "execution_count": null,
   "metadata": {
    "scrolled": true
   },
   "outputs": [],
   "source": [
    "#!pip install easydict"
   ]
  },
  {
   "cell_type": "code",
   "execution_count": null,
   "metadata": {},
   "outputs": [],
   "source": [
    "%pylab inline\n",
    "import os\n",
    "import boto3\n",
    "import time\n",
    "import io\n",
    "from matplotlib.pyplot import imshow, imread\n",
    "import subprocess\n",
    "from skimage.transform import resize as skresize\n",
    "from PIL import Image\n",
    "import requests\n",
    "import cv2\n",
    "import random\n",
    "import numpy as np\n",
    "import json\n",
    "import sagemaker\n",
    "from sagemaker.predictor import StringDeserializer\n",
    "from sagemaker.predictor import RealTimePredictor, json_deserializer\n",
    "import image_pb2 as impb\n",
    "import ast\n",
    "from IPython.display import clear_output\n",
    "from dcn.lib.utils.show_boxes import show_boxes\n",
    "\n",
    "\n",
    "sess = sagemaker.Session() # can use LocalSession() to run container locally\n",
    "bucket = 'privisaa-bucket-virginia' #sess.default_bucket() # can replace with our own bucket \n",
    "role = sagemaker.session.get_execution_role()\n",
    "s3 = boto3.client('s3')\n",
    "\n",
    "#!cp /home/ec2-user/SageMaker/SageMaker-Inference-Advanced/n-labs/11-manual-model-load/dcn/model/rfcn_dcn_coco-0000.params dcn/model/"
   ]
  },
  {
   "cell_type": "markdown",
   "metadata": {},
   "source": [
    "Lets take a look at our inference script"
   ]
  },
  {
   "cell_type": "code",
   "execution_count": null,
   "metadata": {
    "scrolled": true
   },
   "outputs": [],
   "source": [
    "!pygmentize inference.py"
   ]
  },
  {
   "cell_type": "markdown",
   "metadata": {},
   "source": [
    "In order to deploy our model to an endpoint, we need to put our weights into gzip format"
   ]
  },
  {
   "cell_type": "code",
   "execution_count": null,
   "metadata": {},
   "outputs": [],
   "source": [
    "!(cd dcn/model/ && tar -czvf /tmp/model-rfcn.tar.gz *)"
   ]
  },
  {
   "cell_type": "code",
   "execution_count": null,
   "metadata": {},
   "outputs": [],
   "source": [
    "s3.upload_file('/tmp/model-rfcn.tar.gz', bucket, 'super_models/model-rfcn.tar.gz')\n",
    "!aws s3 ls s3://privisaa-bucket-virginia/super_models/   "
   ]
  },
  {
   "cell_type": "markdown",
   "metadata": {},
   "source": [
    "Now we create our container we will use for DCN inference."
   ]
  },
  {
   "cell_type": "code",
   "execution_count": null,
   "metadata": {
    "scrolled": true
   },
   "outputs": [],
   "source": [
    "%%sh\n",
    "\n",
    "# The name of our algorithm\n",
    "algorithm_name=mxnet-serving-160-gpu-py2\n",
    "\n",
    "account=$(aws sts get-caller-identity --query Account --output text)\n",
    "\n",
    "# Get the region defined in the current configuration (default to us-west-2 if none defined)\n",
    "region=$(aws configure get region)\n",
    "#region=${region:-us-west-2}\n",
    "\n",
    "fullname=\"${account}.dkr.ecr.${region}.amazonaws.com/${algorithm_name}:latest\"\n",
    "\n",
    "# If the repository doesn't exist in ECR, create it.\n",
    "aws ecr describe-repositories --repository-names \"${algorithm_name}\" > /dev/null 2>&1\n",
    "\n",
    "if [ $? -ne 0 ]\n",
    "then\n",
    "    aws ecr create-repository --repository-name \"${algorithm_name}\" > /dev/null\n",
    "fi\n",
    "\n",
    "# Get the login command from ECR and execute it directly\n",
    "$(aws ecr get-login --region ${region} --no-include-email)\n",
    "\n",
    "# Build the docker image locally with the image name and then push it to ECR\n",
    "# with the full name.\n",
    "\n",
    "#docker build -t chazarey-mxnet-serving:1.6.0-gpu-py3 -f docker/1.6.0/py3/Dockerfile.gpu .\n",
    "\n",
    "docker build -t ${algorithm_name} -f Dockerfile.gpu .\n",
    "\n",
    "docker tag ${algorithm_name} ${fullname}\n",
    "\n",
    "docker push ${fullname}"
   ]
  },
  {
   "cell_type": "markdown",
   "metadata": {},
   "source": [
    "Now that we have built our container, we can deploy our endpoint. This process usually takes some time."
   ]
  },
  {
   "cell_type": "code",
   "execution_count": null,
   "metadata": {},
   "outputs": [],
   "source": [
    "%%time\n",
    "\n",
    "from sagemaker.mxnet import MXNetModel\n",
    "\n",
    "model_data=\"s3://privisaa-bucket-virginia/super_models/model-rfcn.tar.gz\"\n",
    "\n",
    "model = MXNetModel(\n",
    "    model_data=model_data,\n",
    "    role=role,\n",
    "    image=\"209419068016.dkr.ecr.us-east-1.amazonaws.com/chazarey-mxnet-serving-160-gpu-py2\",\n",
    "    entry_point=\"inference.py\",\n",
    "    py_version='py2',\n",
    "    framework_version='1.6.0',\n",
    "    enable_cloudwatch_metrics=True\n",
    ")\n",
    "\n",
    "# for deploying the endpoint locally for testing we can use an instance_type of local\n",
    "#predictor = model.deploy(instance_type=\"local_gpu\", initial_instance_count=1)\n",
    "#predictor = model.deploy(instance_type=\"local\", initial_instance_count=1)\n",
    "\n",
    "predictor = model.deploy(instance_type='ml.g4dn.2xlarge', initial_instance_count=1)"
   ]
  },
  {
   "cell_type": "code",
   "execution_count": null,
   "metadata": {},
   "outputs": [],
   "source": [
    "num_classes = 81\n",
    "classes = ['person', 'bicycle', 'car', 'motorcycle', 'airplane', 'bus', 'train', 'truck', 'boat',\n",
    "           'traffic light', 'fire hydrant', 'stop sign', 'parking meter', 'bench', 'bird', 'cat', 'dog', 'horse',\n",
    "           'sheep', 'cow', 'elephant', 'bear', 'zebra', 'giraffe', 'backpack', 'umbrella', 'handbag', 'tie',\n",
    "           'suitcase', 'frisbee', 'skis', 'snowboard', 'sports ball', 'kite', 'baseball bat', 'baseball glove',\n",
    "           'skateboard', 'surfboard', 'tennis racket', 'bottle', 'wine glass', 'cup', 'fork', 'knife', 'spoon',\n",
    "           'bowl', 'banana', 'apple', 'sandwich', 'orange', 'broccoli', 'carrot', 'hot dog', 'pizza', 'donut',\n",
    "           'cake', 'chair', 'couch', 'potted plant', 'bed', 'dining table', 'toilet', 'tv', 'laptop', 'mouse',\n",
    "           'remote', 'keyboard', 'cell phone', 'microwave', 'oven', 'toaster', 'sink', 'refrigerator', 'book',\n",
    "           'clock', 'vase', 'scissors', 'teddy bear', 'hair drier', 'toothbrush']"
   ]
  },
  {
   "cell_type": "markdown",
   "metadata": {},
   "source": [
    "Now that we have deployed our endpoint, let's test it out!\n",
    "We are going to package our image into a protobuf object and then send it to our endpoint for classification. \n",
    "Right now it takes approximately 60ms end to end "
   ]
  },
  {
   "cell_type": "code",
   "execution_count": null,
   "metadata": {},
   "outputs": [],
   "source": [
    "%%time\n",
    "\n",
    "with open(impath, 'rb') as f:\n",
    "    payload = f.read()\n",
    "\n",
    "image_packet = impb.PBImage()\n",
    "image_packet.image_data = payload\n",
    "\n",
    "predictor.serializer = None\n",
    "predictor.deserializer = StringDeserializer()\n",
    "predictor.accept = None\n",
    "predictor.content_type = 'application/octet-stream'\n",
    "\n",
    "response = predictor.predict(image_packet.SerializeToString())          \n"
   ]
  },
  {
   "cell_type": "markdown",
   "metadata": {},
   "source": [
    "Let's look at our image prior to classification"
   ]
  },
  {
   "cell_type": "code",
   "execution_count": null,
   "metadata": {},
   "outputs": [],
   "source": [
    "impath = '/home/ec2-user/SageMaker/SageMaker-Inference-Advanced/n-labs/11-manual-model-load/dcn/demo/COCO_test2015_000000000891.jpg'\n",
    "\n",
    "img = imread(impath)\n",
    "imshow(img)"
   ]
  },
  {
   "cell_type": "code",
   "execution_count": null,
   "metadata": {
    "scrolled": true
   },
   "outputs": [],
   "source": [
    "resp_list = []\n",
    "for e in eval(response)['array']:\n",
    "    resp_list.append(np.array(e))"
   ]
  },
  {
   "cell_type": "code",
   "execution_count": null,
   "metadata": {},
   "outputs": [],
   "source": [
    "#im = cv2.imread('./dcn/demo/' + im_name)\n",
    "im = cv2.cvtColor(img, cv2.COLOR_BGR2RGB)\n",
    "show_boxes(im, resp_list, classes, 1)"
   ]
  },
  {
   "cell_type": "code",
   "execution_count": null,
   "metadata": {},
   "outputs": [],
   "source": [
    "%time response = predictor.predict(image_packet.SerializeToString())            \n"
   ]
  }
 ],
 "metadata": {
  "kernelspec": {
   "display_name": "conda_amazonei_mxnet_p27",
   "language": "python",
   "name": "conda_amazonei_mxnet_p27"
  },
  "language_info": {
   "codemirror_mode": {
    "name": "ipython",
    "version": 2
   },
   "file_extension": ".py",
   "mimetype": "text/x-python",
   "name": "python",
   "nbconvert_exporter": "python",
   "pygments_lexer": "ipython2",
   "version": "2.7.17"
  }
 },
 "nbformat": 4,
 "nbformat_minor": 4
}
