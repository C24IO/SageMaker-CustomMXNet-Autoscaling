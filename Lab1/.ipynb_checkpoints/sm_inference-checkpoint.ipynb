{
 "cells": [
  {
   "cell_type": "markdown",
   "metadata": {},
   "source": [
    "# POC - 1 2 3 Custom MXNet Container – What does it mean? and autoscaling using 2 ways"
   ]
  },
  {
   "cell_type": "code",
   "execution_count": null,
   "metadata": {},
   "outputs": [],
   "source": [
    "#Checkout the inference.py "
   ]
  },
  {
   "cell_type": "code",
   "execution_count": null,
   "metadata": {},
   "outputs": [],
   "source": [
    "!pygmentize inference.py"
   ]
  },
  {
   "cell_type": "code",
   "execution_count": null,
   "metadata": {},
   "outputs": [],
   "source": [
    "!cat Dockerfile.gpu"
   ]
  },
  {
   "cell_type": "code",
   "execution_count": null,
   "metadata": {},
   "outputs": [],
   "source": [
    "#Package artifact and wrap it up in a tar.gz\n",
    "\n",
    "#!(cd model_untarred/ && tar -czvf /tmp/model-resnet-152-inference.tar.gz *)\n",
    "#!aws s3 cp /tmp/model-resnet-152-inference.tar.gz s3://ar54/super_models/\n",
    "#!aws s3 ls s3://ar54/super_models/\n",
    "#!aws s3 ls s3://ar54/super_models/model-resnet-152-inference.tar.gz"
   ]
  },
  {
   "cell_type": "code",
   "execution_count": null,
   "metadata": {},
   "outputs": [],
   "source": [
    "!cat build_and_push.sh"
   ]
  },
  {
   "cell_type": "code",
   "execution_count": null,
   "metadata": {},
   "outputs": [],
   "source": [
    "!./build_and_push.sh "
   ]
  },
  {
   "cell_type": "code",
   "execution_count": null,
   "metadata": {},
   "outputs": [],
   "source": [
    "import sagemaker\n",
    "from sagemaker.mxnet import MXNetModel\n",
    "\n",
    "role = sagemaker.session.get_execution_role()\n",
    "\n",
    "model_data=\"s3://ar54/super_models/model-resnet-152-inference.tar.gz\"\n",
    "\n",
    "model = MXNetModel(\n",
    "    model_data=model_data,\n",
    "    role=role,\n",
    "    image=\"308412838853.dkr.ecr.us-east-2.amazonaws.com/chazarey-mxnet-serving-160-gpu-py3:latest\",\n",
    "    entry_point=\"inference.py\",\n",
    "    py_version='py3',\n",
    "    framework_version='1.6.0',\n",
    "    enable_cloudwatch_metrics=True\n",
    ")\n",
    "# ml.g4dn.16xlarge ml.p3.16xlarge ml.p2.xlarge\n",
    "#predictor = model.deploy(instance_type=\"local_gpu\", initial_instance_count=1)\n",
    "predictor = model.deploy(instance_type='ml.g4dn.xlarge', initial_instance_count=1)"
   ]
  },
  {
   "cell_type": "code",
   "execution_count": null,
   "metadata": {},
   "outputs": [],
   "source": [
    "print(predictor.endpoint)\n",
    "#print avg of 100 runs below usig numpy"
   ]
  },
  {
   "cell_type": "code",
   "execution_count": null,
   "metadata": {},
   "outputs": [],
   "source": [
    "from matplotlib.pyplot import imshow\n",
    "import os\n",
    "import io\n",
    "import subprocess\n",
    "import PIL\n",
    "from PIL import Image\n",
    "import requests\n",
    "import random\n",
    "import io\n",
    "import numpy as np\n",
    "import json\n",
    "from sagemaker.predictor import StringDeserializer\n",
    "import time\n",
    "import image_pb2 as impb\n",
    "import ast\n",
    "from IPython.display import clear_output\n",
    "from sagemaker.predictor import RealTimePredictor, json_deserializer\n",
    "\n",
    "with open('synset.txt', 'r') as f:\n",
    "  labels = [l.rstrip() for l in f]\n",
    "\n",
    "impath = '/home/ec2-user/SageMaker/dataset/256_ObjectCategoriesimage'\n",
    "files = os.listdir(impath)\n",
    "\n",
    "while True:\n",
    "    index = random.randrange(0, len(files))\n",
    "    #print(files[index])\n",
    "    file_name = impath + '/' + files[index]\n",
    "    \n",
    "    try:\n",
    "        with open(file_name, 'rb') as f:\n",
    "            payload = f.read()\n",
    "            #payload = bytearray(payload)\n",
    "    except:\n",
    "        pass\n",
    "        \n",
    "    image_packet = impb.PBImage()\n",
    "    image_packet.image_data = payload\n",
    "\n",
    "    predictor.serializer = None\n",
    "    predictor.deserializer = StringDeserializer()\n",
    "    predictor.accept = None\n",
    "    predictor.content_type = 'application/octet-stream'\n",
    "\n",
    "    %time response = predictor.predict(image_packet.SerializeToString())            \n",
    "    \n",
    "    result = ast.literal_eval(response)\n",
    "    index = np.argmax(result)\n",
    "    #print(index)\n",
    "    pil_im = Image.open(file_name, 'r')    \n",
    "    imshow(np.asarray(pil_im))\n",
    "    print('\\n'+labels[index]+'\\n')\n",
    "    clear_output(wait=True)\n",
    "    \n"
   ]
  }
 ],
 "metadata": {
  "kernelspec": {
   "display_name": "conda_mxnet_p36",
   "language": "python",
   "name": "conda_mxnet_p36"
  },
  "language_info": {
   "codemirror_mode": {
    "name": "ipython",
    "version": 3
   },
   "file_extension": ".py",
   "mimetype": "text/x-python",
   "name": "python",
   "nbconvert_exporter": "python",
   "pygments_lexer": "ipython3",
   "version": "3.6.10"
  }
 },
 "nbformat": 4,
 "nbformat_minor": 4
}
